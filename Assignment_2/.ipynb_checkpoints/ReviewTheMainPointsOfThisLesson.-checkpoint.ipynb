{
 "cells": [
  {
   "cell_type": "markdown",
   "metadata": {},
   "source": [
    "**1. How to Github and Why do we use Jupyter and Pycharm;**  \n",
    " \n",
    "Github: git init - git add . - git commit -m 'what?' - build a repositories online - connect to the online respositoriew - git push origin  \n",
    "Juypter notebook is a tool for people to easy show their work.  \n",
    "Pycharm is more suitable for bigger project because there are more useful tools and debugging tools build inside.  "
   ]
  },
  {
   "cell_type": "markdown",
   "metadata": {},
   "source": [
    "**2. What's the Probability Model?**  \n",
    "\n",
    "Probability model is the model which build based on the probability of the element of the model. For example, the language probability model is using the probability of the words to build the model."
   ]
  },
  {
   "cell_type": "markdown",
   "metadata": {},
   "source": [
    "**3. Can you came up with some sceneraies at which we could use Probability Model?**  \n",
    " \n",
    "First of all, the NLP model can use it.  \n",
    "Second, I think in CV field, maybe we can also use the Probability Model when we convert the color to RGB number and use the number to make a prediction or what.  \n",
    "Third, when we do some predictions, we could use this model to get the probability."
   ]
  },
  {
   "cell_type": "markdown",
   "metadata": {},
   "source": [
    "#### 4. Why do we use probability and what's the difficult points for programming based on parsing and pattern match?\n",
    "\n",
    "The probability is much easier to calculate.  \n",
    "As for the pattern match, it's difficult to build and calculate when the pattern is complicated."
   ]
  },
  {
   "cell_type": "markdown",
   "metadata": {},
   "source": [
    "#### 5. What's the Language Model;\n",
    "\n",
    "Language Model is a model that can generate the human sentences. "
   ]
  },
  {
   "cell_type": "markdown",
   "metadata": {},
   "source": [
    "#### 6. Can you came up with some sceneraies at which we could use Language Model?\n",
    "\n",
    "voice recognize, voice assistence, OCR, chat robot"
   ]
  },
  {
   "cell_type": "markdown",
   "metadata": {},
   "source": [
    "#### 7. What's the 1-gram language model;\n",
    "\n",
    "The model which generate or recognize the probability of the sentence based on single words."
   ]
  },
  {
   "cell_type": "markdown",
   "metadata": {},
   "source": [
    "#### 8. What's the disadvantages and advantages of 1-gram language model;\n",
    "\n",
    "Advantage is: it's much easier to calculate so it will be faster.  \n",
    "Disanvantage is: it ignore the sequence of the sentence, so the accuracy of the model may not good."
   ]
  },
  {
   "cell_type": "markdown",
   "metadata": {},
   "source": [
    "#### 9. What't the 2-gram models;\n",
    "\n",
    "The model which generate or recognize the probability of the sentence based on two words. These two words can be continued or not cotinued."
   ]
  },
  {
   "cell_type": "markdown",
   "metadata": {},
   "source": [
    "#### 10. what's the web crawler, and can you implement a simple crawler?\n",
    "\n",
    "Web crawler is some functions that can get the wanted content from the Internet automatically.  \n",
    "Yes, I built lots of web crawlers before."
   ]
  },
  {
   "cell_type": "markdown",
   "metadata": {},
   "source": [
    "#### 11. There may be some issues to make our crwaler programming difficult, what are these, and how do we solve them?\n",
    "\n",
    "1. The website has some anti-crawler mechanisms. - Use selenium or webkit to round these mechanisms.\n",
    "2. The website may prohibit the IP of the computer if we access the website with a high frequency. - Be slower or use some other IP address"
   ]
  },
  {
   "cell_type": "markdown",
   "metadata": {},
   "source": [
    "12. What't the Regular Expression and how to use?\n",
    "\n",
    "Regular Expression is a tool that help us to get the wanted content from a file.  \n",
    "import re"
   ]
  }
 ],
 "metadata": {
  "kernelspec": {
   "display_name": "Python 3",
   "language": "python",
   "name": "python3"
  },
  "language_info": {
   "codemirror_mode": {
    "name": "ipython",
    "version": 3
   },
   "file_extension": ".py",
   "mimetype": "text/x-python",
   "name": "python",
   "nbconvert_exporter": "python",
   "pygments_lexer": "ipython3",
   "version": "3.6.8"
  }
 },
 "nbformat": 4,
 "nbformat_minor": 2
}
