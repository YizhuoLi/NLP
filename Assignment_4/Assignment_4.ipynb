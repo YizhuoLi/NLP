{
 "cells": [
  {
   "cell_type": "code",
   "execution_count": 1,
   "metadata": {},
   "outputs": [],
   "source": [
    "from collections import defaultdict\n",
    "\n",
    "original_price = [1, 5, 8, 9, 10, 17, 17, 20, 24, 30]\n",
    "price = defaultdict(int)\n",
    "for i, p in enumerate(original_price):\n",
    "    price[i+1] = p\n",
    "assert price[1] == 1"
   ]
  },
  {
   "cell_type": "code",
   "execution_count": 2,
   "metadata": {},
   "outputs": [
    {
     "data": {
      "text/plain": [
       "0"
      ]
     },
     "execution_count": 2,
     "metadata": {},
     "output_type": "execute_result"
    }
   ],
   "source": [
    "# why we should use defaultdict\n",
    "price[123]\n",
    "# it will have a default value which is 0 and definitely not the max"
   ]
  },
  {
   "cell_type": "code",
   "execution_count": 3,
   "metadata": {},
   "outputs": [],
   "source": [
    "def r(n):\n",
    "    return max(\n",
    "#         [price[n], r(1)+r(n-1), r(2)+r(n-2).....r(n-1)+r(1)]\n",
    "        [price[n]] + [r(i) + r(n-i) for i in range(1, n)]\n",
    "        # price[n] = r(n) however, this function will not end\n",
    "    )"
   ]
  },
  {
   "cell_type": "code",
   "execution_count": 4,
   "metadata": {},
   "outputs": [
    {
     "data": {
      "text/plain": [
       "10"
      ]
     },
     "execution_count": 4,
     "metadata": {},
     "output_type": "execute_result"
    }
   ],
   "source": [
    "r(4)"
   ]
  },
  {
   "cell_type": "code",
   "execution_count": 5,
   "metadata": {},
   "outputs": [],
   "source": [
    "# the problem is if the n is big it will that too many time.\n",
    "# and we don't know what's the number and why split like this.\n",
    "solution = {}\n",
    "# for a given length N, we set the corrponding slit parts\n",
    "## solution = {\n",
    "#   4 : (2,2)\n",
    "# }"
   ]
  },
  {
   "cell_type": "code",
   "execution_count": 6,
   "metadata": {},
   "outputs": [],
   "source": [
    "def r(n):\n",
    "    max_price, split_point = max(\n",
    "#         [price[n], r(1)+r(n-1), r(2)+r(n-2).....r(n-1)+r(1)]\n",
    "        [(price[n], 0)] + [(r(i) + r(n-i), i) for i in range(1, n)], key = lambda x: x[0]\n",
    "        # price[n] = r(n) however, this function will not end\n",
    "    )\n",
    "    solution[n] = (split_point, n-split_point)\n",
    "    \n",
    "    return max_price"
   ]
  },
  {
   "cell_type": "code",
   "execution_count": 7,
   "metadata": {},
   "outputs": [
    {
     "data": {
      "text/plain": [
       "43"
      ]
     },
     "execution_count": 7,
     "metadata": {},
     "output_type": "execute_result"
    }
   ],
   "source": [
    "r(15)"
   ]
  },
  {
   "cell_type": "code",
   "execution_count": 8,
   "metadata": {},
   "outputs": [
    {
     "data": {
      "text/plain": [
       "{1: (0, 1),\n",
       " 2: (0, 2),\n",
       " 3: (0, 3),\n",
       " 4: (2, 2),\n",
       " 5: (2, 3),\n",
       " 6: (0, 6),\n",
       " 7: (1, 6),\n",
       " 8: (2, 6),\n",
       " 9: (3, 6),\n",
       " 10: (0, 10),\n",
       " 11: (1, 10),\n",
       " 12: (2, 10),\n",
       " 13: (3, 10),\n",
       " 14: (2, 12),\n",
       " 15: (2, 13)}"
      ]
     },
     "execution_count": 8,
     "metadata": {},
     "output_type": "execute_result"
    }
   ],
   "source": [
    "solution"
   ]
  },
  {
   "cell_type": "code",
   "execution_count": 9,
   "metadata": {},
   "outputs": [],
   "source": [
    "# how to solve the slow problem: there are lots of duplicate calculate, we choose to save the calculate result\n",
    "from functools import lru_cache"
   ]
  },
  {
   "cell_type": "code",
   "execution_count": 10,
   "metadata": {},
   "outputs": [],
   "source": [
    "@lru_cache(maxsize=2**10) #decorater\n",
    "def r(n):\n",
    "    max_price, split_point = max(\n",
    "#         [price[n], r(1)+r(n-1), r(2)+r(n-2).....r(n-1)+r(1)]\n",
    "        [(price[n], 0)] + [(r(i) + r(n-i), i) for i in range(1, n)], key = lambda x: x[0]\n",
    "        # price[n] = r(n) however, this function will not end\n",
    "    )\n",
    "    solution[n] = (split_point, n-split_point)\n",
    "    \n",
    "    return max_price"
   ]
  },
  {
   "cell_type": "code",
   "execution_count": 11,
   "metadata": {},
   "outputs": [
    {
     "data": {
      "text/plain": [
       "43"
      ]
     },
     "execution_count": 11,
     "metadata": {},
     "output_type": "execute_result"
    }
   ],
   "source": [
    "r(15)"
   ]
  },
  {
   "cell_type": "code",
   "execution_count": 12,
   "metadata": {},
   "outputs": [
    {
     "data": {
      "text/plain": [
       "368"
      ]
     },
     "execution_count": 12,
     "metadata": {},
     "output_type": "execute_result"
    }
   ],
   "source": [
    "r(123)"
   ]
  },
  {
   "cell_type": "code",
   "execution_count": 13,
   "metadata": {},
   "outputs": [],
   "source": [
    "# 面向，意味着 1.面向的东西可以作为参数，传入函数 2.可以作为变量赋值 3.可以作为return\n",
    "import time\n",
    "\n",
    "def call_time(func_1, arg):\n",
    "    start = time.time()\n",
    "    func_1(arg)\n",
    "    print('used time: {}'.format(time.time() - start))"
   ]
  },
  {
   "cell_type": "code",
   "execution_count": 14,
   "metadata": {},
   "outputs": [],
   "source": [
    "def get_call_time(func):\n",
    "    def _wrap(arg):\n",
    "        start = time.time()\n",
    "        result = func(arg)\n",
    "        print('used time: {}'.format(time.time() - start))\n",
    "        return result\n",
    "    return _wrap"
   ]
  },
  {
   "cell_type": "code",
   "execution_count": 15,
   "metadata": {},
   "outputs": [],
   "source": [
    "def func_1(n):\n",
    "    for i in range(n):\n",
    "        print(i)\n",
    "        \n",
    "def func_slow(n):\n",
    "    for i in range(n):\n",
    "        time.sleep(0.2)\n",
    "        print(i)"
   ]
  },
  {
   "cell_type": "code",
   "execution_count": 16,
   "metadata": {},
   "outputs": [
    {
     "name": "stdout",
     "output_type": "stream",
     "text": [
      "0\n",
      "1\n",
      "2\n",
      "3\n",
      "4\n",
      "5\n",
      "6\n",
      "7\n",
      "8\n",
      "9\n",
      "used time: 0.0004286766052246094\n"
     ]
    }
   ],
   "source": [
    "call_time(func_1, 10)"
   ]
  },
  {
   "cell_type": "code",
   "execution_count": 17,
   "metadata": {},
   "outputs": [
    {
     "name": "stdout",
     "output_type": "stream",
     "text": [
      "0\n",
      "1\n",
      "2\n",
      "3\n",
      "4\n",
      "5\n",
      "6\n",
      "7\n",
      "8\n",
      "9\n",
      "used time: 2.01981520652771\n"
     ]
    }
   ],
   "source": [
    "call_time(func_slow, 10)"
   ]
  },
  {
   "cell_type": "code",
   "execution_count": 18,
   "metadata": {},
   "outputs": [],
   "source": [
    "func_1_could_get_call_time = get_call_time(func_1) ## => @ (decorator)"
   ]
  },
  {
   "cell_type": "code",
   "execution_count": 19,
   "metadata": {},
   "outputs": [
    {
     "name": "stdout",
     "output_type": "stream",
     "text": [
      "0\n",
      "1\n",
      "2\n",
      "3\n",
      "4\n",
      "used time: 0.00035119056701660156\n"
     ]
    }
   ],
   "source": [
    "func_1_could_get_call_time(5)"
   ]
  },
  {
   "cell_type": "code",
   "execution_count": 20,
   "metadata": {},
   "outputs": [],
   "source": [
    "@get_call_time\n",
    "def func_1(n):\n",
    "    for i in range(n):\n",
    "        print(i)"
   ]
  },
  {
   "cell_type": "code",
   "execution_count": 21,
   "metadata": {},
   "outputs": [
    {
     "name": "stdout",
     "output_type": "stream",
     "text": [
      "0\n",
      "1\n",
      "2\n",
      "3\n",
      "4\n",
      "used time: 0.00023603439331054688\n"
     ]
    }
   ],
   "source": [
    "func_1(5)"
   ]
  },
  {
   "cell_type": "code",
   "execution_count": 52,
   "metadata": {},
   "outputs": [],
   "source": [
    "function_called_time = defaultdict(int)\n",
    "\n",
    "def get_call_time(func):\n",
    "    def _inner(arg): # *arg, **kwargs\n",
    "        global function_called_time\n",
    "        function_called_time[func.__name__] += 1\n",
    "        result = func(arg)\n",
    "        print('function called time is : {}'.format(function_called_time[func.__name__]))\n",
    "        return result\n",
    "    return _inner"
   ]
  },
  {
   "cell_type": "code",
   "execution_count": 53,
   "metadata": {},
   "outputs": [],
   "source": [
    "@get_call_time\n",
    "def func_1(n):\n",
    "    for i in range(n):\n",
    "        print(i)"
   ]
  },
  {
   "cell_type": "code",
   "execution_count": 54,
   "metadata": {},
   "outputs": [
    {
     "name": "stdout",
     "output_type": "stream",
     "text": [
      "0\n",
      "1\n",
      "2\n",
      "3\n",
      "4\n",
      "5\n",
      "6\n",
      "7\n",
      "8\n",
      "9\n",
      "function called time is : 1\n"
     ]
    }
   ],
   "source": [
    "func_1(10)"
   ]
  },
  {
   "cell_type": "code",
   "execution_count": 55,
   "metadata": {},
   "outputs": [],
   "source": [
    "# decorator's function is not the key function, there are some interesting decorators\n",
    "\n",
    "def func_1(n):\n",
    "    \"\"\"\n",
    "    @param n: int\n",
    "    @return int: lalala\n",
    "    \"\"\"\n",
    "    for i in range(n):\n",
    "        print(i)"
   ]
  },
  {
   "cell_type": "code",
   "execution_count": 56,
   "metadata": {},
   "outputs": [
    {
     "data": {
      "text/plain": [
       "<function __main__.func_1(n)>"
      ]
     },
     "execution_count": 56,
     "metadata": {},
     "output_type": "execute_result"
    }
   ],
   "source": [
    "func_1"
   ]
  },
  {
   "cell_type": "code",
   "execution_count": 57,
   "metadata": {},
   "outputs": [
    {
     "name": "stdout",
     "output_type": "stream",
     "text": [
      "Help on function func_1 in module __main__:\n",
      "\n",
      "func_1(n)\n",
      "    @param n: int\n",
      "    @return int: lalala\n",
      "\n"
     ]
    }
   ],
   "source": [
    "help(func_1)"
   ]
  },
  {
   "cell_type": "code",
   "execution_count": 58,
   "metadata": {},
   "outputs": [],
   "source": [
    "# However, if we add the decorator\n",
    "@get_call_time\n",
    "def func_1(n):\n",
    "    \"\"\"\n",
    "    @param n: int\n",
    "    @return int: lalala\n",
    "    \"\"\"\n",
    "    for i in range(n):\n",
    "        print(i)"
   ]
  },
  {
   "cell_type": "code",
   "execution_count": 59,
   "metadata": {},
   "outputs": [],
   "source": [
    "# Which equals to\n",
    "func_1 = get_call_time(func_1)"
   ]
  },
  {
   "cell_type": "code",
   "execution_count": 60,
   "metadata": {},
   "outputs": [
    {
     "data": {
      "text/plain": [
       "<function __main__.get_call_time.<locals>._inner(arg)>"
      ]
     },
     "execution_count": 60,
     "metadata": {},
     "output_type": "execute_result"
    }
   ],
   "source": [
    "# now it's inner\n",
    "func_1"
   ]
  },
  {
   "cell_type": "code",
   "execution_count": 61,
   "metadata": {},
   "outputs": [],
   "source": [
    "function_called_time = defaultdict(int)\n",
    "\n",
    "def get_call_time(func):\n",
    "    def _inner(arg): # *arg, **kwargs\n",
    "        \"\"\" It's a inner function. \"\"\"\n",
    "        global function_called_time\n",
    "        function_called_time[func.__name__] += 1\n",
    "        result = func(arg)\n",
    "        print('function called time is : {}'.format(function_called_time[func.__name__]))\n",
    "        return result\n",
    "    return _inner"
   ]
  },
  {
   "cell_type": "code",
   "execution_count": 62,
   "metadata": {},
   "outputs": [],
   "source": [
    "# However, if we add the decorator\n",
    "@get_call_time\n",
    "def func_1(n):\n",
    "    \"\"\"\n",
    "    @param n: int\n",
    "    @return int: lalala\n",
    "    \"\"\"\n",
    "    for i in range(n):\n",
    "        print(i)"
   ]
  },
  {
   "cell_type": "code",
   "execution_count": 63,
   "metadata": {},
   "outputs": [
    {
     "data": {
      "text/plain": [
       "<function __main__.get_call_time.<locals>._inner(arg)>"
      ]
     },
     "execution_count": 63,
     "metadata": {},
     "output_type": "execute_result"
    }
   ],
   "source": [
    "func_1"
   ]
  },
  {
   "cell_type": "code",
   "execution_count": 64,
   "metadata": {},
   "outputs": [
    {
     "name": "stdout",
     "output_type": "stream",
     "text": [
      "Help on function _inner in module __main__:\n",
      "\n",
      "_inner(arg)\n",
      "    It's a inner function.\n",
      "\n"
     ]
    }
   ],
   "source": [
    "# If it has the decorator, we can't see the func_1's introduction\n",
    "help(func_1)"
   ]
  },
  {
   "cell_type": "code",
   "execution_count": 65,
   "metadata": {},
   "outputs": [],
   "source": [
    "# However, there is another decorator to solve this problem\n",
    "from functools import wraps"
   ]
  },
  {
   "cell_type": "code",
   "execution_count": 66,
   "metadata": {},
   "outputs": [],
   "source": [
    "function_called_time = defaultdict(int)\n",
    "\n",
    "def get_call_time(func):\n",
    "    @wraps(func)\n",
    "    def _inner(arg): # *arg, **kwargs\n",
    "        \"\"\" It's a inner function. \"\"\"\n",
    "        global function_called_time\n",
    "        function_called_time[func.__name__] += 1\n",
    "        result = func(arg)\n",
    "        print('function called time is : {}'.format(function_called_time[func.__name__]))\n",
    "        return result\n",
    "    return _inner"
   ]
  },
  {
   "cell_type": "code",
   "execution_count": 67,
   "metadata": {},
   "outputs": [],
   "source": [
    "# However, if we add the decorator\n",
    "@get_call_time\n",
    "def func_1(n):\n",
    "    \"\"\"\n",
    "    @param n: int\n",
    "    @return int: lalala\n",
    "    \"\"\"\n",
    "    for i in range(n):\n",
    "        print(i)"
   ]
  },
  {
   "cell_type": "code",
   "execution_count": 68,
   "metadata": {},
   "outputs": [
    {
     "data": {
      "text/plain": [
       "<function __main__.func_1(n)>"
      ]
     },
     "execution_count": 68,
     "metadata": {},
     "output_type": "execute_result"
    }
   ],
   "source": [
    "func_1"
   ]
  },
  {
   "cell_type": "code",
   "execution_count": 69,
   "metadata": {},
   "outputs": [
    {
     "name": "stdout",
     "output_type": "stream",
     "text": [
      "Help on function func_1 in module __main__:\n",
      "\n",
      "func_1(n)\n",
      "    @param n: int\n",
      "    @return int: lalala\n",
      "\n"
     ]
    }
   ],
   "source": [
    "# Now we can see the result\n",
    "help(func_1)"
   ]
  },
  {
   "cell_type": "code",
   "execution_count": 72,
   "metadata": {},
   "outputs": [],
   "source": [
    "def memo(func):\n",
    "    cache = {}\n",
    "    @wraps(func)\n",
    "    def _wrap(n):\n",
    "        if n in cache: result = cache[n]\n",
    "        else:\n",
    "            result = func(n)\n",
    "            cache[n] = result\n",
    "        return result # why result, why not cache?\n",
    "    return _wrap"
   ]
  },
  {
   "cell_type": "code",
   "execution_count": 73,
   "metadata": {},
   "outputs": [],
   "source": [
    "@memo\n",
    "def r(n):\n",
    "    max_price, split_point = max(\n",
    "#         [price[n], r(1)+r(n-1), r(2)+r(n-2).....r(n-1)+r(1)]\n",
    "        [(price[n], 0)] + [(r(i) + r(n-i), i) for i in range(1, n)], key = lambda x: x[0]\n",
    "        # price[n] = r(n) however, this function will not end\n",
    "    )\n",
    "    solution[n] = (split_point, n-split_point)\n",
    "    \n",
    "    return max_price"
   ]
  },
  {
   "cell_type": "code",
   "execution_count": 74,
   "metadata": {},
   "outputs": [
    {
     "data": {
      "text/plain": [
       "382"
      ]
     },
     "execution_count": 74,
     "metadata": {},
     "output_type": "execute_result"
    }
   ],
   "source": [
    "r(128)"
   ]
  },
  {
   "cell_type": "code",
   "execution_count": 76,
   "metadata": {},
   "outputs": [
    {
     "data": {
      "text/plain": [
       "{1: (0, 1),\n",
       " 2: (0, 2),\n",
       " 3: (0, 3),\n",
       " 4: (2, 2),\n",
       " 5: (2, 3),\n",
       " 6: (0, 6),\n",
       " 7: (1, 6),\n",
       " 8: (2, 6),\n",
       " 9: (3, 6),\n",
       " 10: (0, 10),\n",
       " 11: (1, 10),\n",
       " 12: (2, 10),\n",
       " 13: (3, 10),\n",
       " 14: (2, 12),\n",
       " 15: (2, 13),\n",
       " 16: (6, 10),\n",
       " 17: (1, 16),\n",
       " 18: (2, 16),\n",
       " 19: (3, 16),\n",
       " 20: (10, 10),\n",
       " 21: (1, 20),\n",
       " 22: (2, 20),\n",
       " 23: (3, 20),\n",
       " 24: (2, 22),\n",
       " 25: (2, 23),\n",
       " 26: (6, 20),\n",
       " 27: (1, 26),\n",
       " 28: (2, 26),\n",
       " 29: (3, 26),\n",
       " 30: (10, 20),\n",
       " 31: (1, 30),\n",
       " 32: (2, 30),\n",
       " 33: (3, 30),\n",
       " 34: (2, 32),\n",
       " 35: (2, 33),\n",
       " 36: (6, 30),\n",
       " 37: (1, 36),\n",
       " 38: (2, 36),\n",
       " 39: (3, 36),\n",
       " 40: (10, 30),\n",
       " 41: (1, 40),\n",
       " 42: (2, 40),\n",
       " 43: (3, 40),\n",
       " 44: (2, 42),\n",
       " 45: (2, 43),\n",
       " 46: (6, 40),\n",
       " 47: (1, 46),\n",
       " 48: (2, 46),\n",
       " 49: (3, 46),\n",
       " 50: (10, 40),\n",
       " 51: (1, 50),\n",
       " 52: (2, 50),\n",
       " 53: (3, 50),\n",
       " 54: (2, 52),\n",
       " 55: (2, 53),\n",
       " 56: (6, 50),\n",
       " 57: (1, 56),\n",
       " 58: (2, 56),\n",
       " 59: (3, 56),\n",
       " 60: (10, 50),\n",
       " 61: (1, 60),\n",
       " 62: (2, 60),\n",
       " 63: (3, 60),\n",
       " 64: (2, 62),\n",
       " 65: (2, 63),\n",
       " 66: (6, 60),\n",
       " 67: (1, 66),\n",
       " 68: (2, 66),\n",
       " 69: (3, 66),\n",
       " 70: (10, 60),\n",
       " 71: (1, 70),\n",
       " 72: (2, 70),\n",
       " 73: (3, 70),\n",
       " 74: (2, 72),\n",
       " 75: (2, 73),\n",
       " 76: (6, 70),\n",
       " 77: (1, 76),\n",
       " 78: (2, 76),\n",
       " 79: (3, 76),\n",
       " 80: (10, 70),\n",
       " 81: (1, 80),\n",
       " 82: (2, 80),\n",
       " 83: (3, 80),\n",
       " 84: (2, 82),\n",
       " 85: (2, 83),\n",
       " 86: (6, 80),\n",
       " 87: (1, 86),\n",
       " 88: (2, 86),\n",
       " 89: (3, 86),\n",
       " 90: (10, 80),\n",
       " 91: (1, 90),\n",
       " 92: (2, 90),\n",
       " 93: (3, 90),\n",
       " 94: (2, 92),\n",
       " 95: (2, 93),\n",
       " 96: (6, 90),\n",
       " 97: (1, 96),\n",
       " 98: (2, 96),\n",
       " 99: (3, 96),\n",
       " 100: (10, 90),\n",
       " 101: (1, 100),\n",
       " 102: (2, 100),\n",
       " 103: (3, 100),\n",
       " 104: (2, 102),\n",
       " 105: (2, 103),\n",
       " 106: (6, 100),\n",
       " 107: (1, 106),\n",
       " 108: (2, 106),\n",
       " 109: (3, 106),\n",
       " 110: (10, 100),\n",
       " 111: (1, 110),\n",
       " 112: (2, 110),\n",
       " 113: (3, 110),\n",
       " 114: (2, 112),\n",
       " 115: (2, 113),\n",
       " 116: (6, 110),\n",
       " 117: (1, 116),\n",
       " 118: (2, 116),\n",
       " 119: (3, 116),\n",
       " 120: (10, 110),\n",
       " 121: (1, 120),\n",
       " 122: (2, 120),\n",
       " 123: (3, 120),\n",
       " 124: (2, 122),\n",
       " 125: (2, 123),\n",
       " 126: (6, 120),\n",
       " 127: (1, 126),\n",
       " 128: (2, 126)}"
      ]
     },
     "execution_count": 76,
     "metadata": {},
     "output_type": "execute_result"
    }
   ],
   "source": [
    "# 1. analyze the repeat 2. child problems(solutions) save 3.solutions\n",
    "# this is the way to analyze the dynamic programing\n",
    "solution"
   ]
  },
  {
   "cell_type": "code",
   "execution_count": 77,
   "metadata": {},
   "outputs": [],
   "source": [
    "def not_cut(split): return split == 0\n",
    "\n",
    "def parse_solution(target_length, revenue_solution):\n",
    "    left, right = revenue_solution[target_length]\n",
    "    \n",
    "    if not_cut(left): return [right]\n",
    "    \n",
    "    return parse_solution(left, revenue_solution) + parse_solution(right, revenue_solution)"
   ]
  },
  {
   "cell_type": "code",
   "execution_count": 78,
   "metadata": {},
   "outputs": [
    {
     "data": {
      "text/plain": [
       "[3, 10, 10, 10, 10, 10, 10, 10, 10, 10, 10, 10, 10]"
      ]
     },
     "execution_count": 78,
     "metadata": {},
     "output_type": "execute_result"
    }
   ],
   "source": [
    "parse_solution(123, solution)"
   ]
  },
  {
   "cell_type": "code",
   "execution_count": 79,
   "metadata": {},
   "outputs": [
    {
     "data": {
      "text/plain": [
       "[1, 6, 10, 10]"
      ]
     },
     "execution_count": 79,
     "metadata": {},
     "output_type": "execute_result"
    }
   ],
   "source": [
    "parse_solution(27, solution)"
   ]
  },
  {
   "cell_type": "markdown",
   "metadata": {},
   "source": [
    "## Edit Distance"
   ]
  },
  {
   "cell_type": "code",
   "execution_count": 80,
   "metadata": {},
   "outputs": [],
   "source": [
    "@lru_cache(maxsize=2**10) #decorater\n",
    "def edit_distance(string1, string2):\n",
    "    \n",
    "    if len(string1) == 0: return len(string2)\n",
    "    if len(string2) == 0: return len(string1)\n",
    "    \n",
    "    tail_s1 = string1[-1]\n",
    "    tail_s2 = string2[-1]\n",
    "    \n",
    "    return min([\n",
    "        edit_distance(string1[:-1], string2) + 1,  #string1 delete tail\n",
    "        edit_distance(string1, string2[:-1]) + 1,  #string2 delete tail\n",
    "        edit_distance(string1[:-1], string2[:-1]) + (0 if tail_s1 == tail_s2 else 2)\n",
    "    ])"
   ]
  },
  {
   "cell_type": "code",
   "execution_count": 81,
   "metadata": {},
   "outputs": [
    {
     "data": {
      "text/plain": [
       "9"
      ]
     },
     "execution_count": 81,
     "metadata": {},
     "output_type": "execute_result"
    }
   ],
   "source": [
    "edit_distance('我居然还是欠着作业', '我居然已经做完作业了')"
   ]
  },
  {
   "cell_type": "code",
   "execution_count": 82,
   "metadata": {},
   "outputs": [
    {
     "data": {
      "text/plain": [
       "8"
      ]
     },
     "execution_count": 82,
     "metadata": {},
     "output_type": "execute_result"
    }
   ],
   "source": [
    "edit_distance('我居然还是欠着作业', '我居然已经做完作业')"
   ]
  },
  {
   "cell_type": "code",
   "execution_count": 83,
   "metadata": {},
   "outputs": [
    {
     "data": {
      "text/plain": [
       "4"
      ]
     },
     "execution_count": 83,
     "metadata": {},
     "output_type": "execute_result"
    }
   ],
   "source": [
    "edit_distance('我居然作业', '我居然已经做完作业')"
   ]
  },
  {
   "cell_type": "code",
   "execution_count": 101,
   "metadata": {},
   "outputs": [],
   "source": [
    "solution = {}"
   ]
  },
  {
   "cell_type": "code",
   "execution_count": 102,
   "metadata": {},
   "outputs": [],
   "source": [
    "# Now we could get the distance between two sentence. However, we don't know where does it changed.\n",
    "# So, how could we know that?\n",
    "@lru_cache(maxsize=2**10) #decorater\n",
    "def edit_distance(string1, string2):\n",
    "    \n",
    "    if len(string1) == 0: return len(string2)\n",
    "    if len(string2) == 0: return len(string1)\n",
    "    \n",
    "    tail_s1 = string1[-1]\n",
    "    tail_s2 = string2[-1]\n",
    "    \n",
    "    candidates = [\n",
    "        (edit_distance(string1[:-1], string2) + 1, 'DEL {}'.format(tail_s1)),\n",
    "        (edit_distance(string1, string2[:-1]) + 1, 'ADD {}'.format(tail_s2)),\n",
    "    ]\n",
    "    \n",
    "    if tail_s1 == tail_s2:\n",
    "        both_forward = (edit_distance(string1[:-1], string2[:-1]) + 0, '')\n",
    "    else:\n",
    "        both_forward = (edit_distance(string1[:-1], string2[:-1]) + 2, 'SUB {} => {}'.format(tail_s1, tail_s2))\n",
    "        \n",
    "    candidates.append(both_forward)\n",
    "    \n",
    "    min_distance, operation = min(candidates, key=lambda x:x[0])\n",
    "    \n",
    "    solution[(string1, string2)] = operation\n",
    "    \n",
    "    return min_distance"
   ]
  },
  {
   "cell_type": "code",
   "execution_count": 103,
   "metadata": {},
   "outputs": [
    {
     "data": {
      "text/plain": [
       "9"
      ]
     },
     "execution_count": 103,
     "metadata": {},
     "output_type": "execute_result"
    }
   ],
   "source": [
    "edit_distance('我居然还是欠着作业', '我居然已经做完作业了')"
   ]
  },
  {
   "cell_type": "code",
   "execution_count": 104,
   "metadata": {},
   "outputs": [
    {
     "data": {
      "text/plain": [
       "{('我', '我'): '',\n",
       " ('我', '我居'): 'ADD 居',\n",
       " ('我', '我居然'): 'ADD 然',\n",
       " ('我', '我居然已'): 'ADD 已',\n",
       " ('我', '我居然已经'): 'ADD 经',\n",
       " ('我', '我居然已经做'): 'ADD 做',\n",
       " ('我', '我居然已经做完'): 'ADD 完',\n",
       " ('我', '我居然已经做完作'): 'ADD 作',\n",
       " ('我', '我居然已经做完作业'): 'ADD 业',\n",
       " ('我', '我居然已经做完作业了'): 'ADD 了',\n",
       " ('我居', '我'): 'DEL 居',\n",
       " ('我居', '我居'): '',\n",
       " ('我居', '我居然'): 'ADD 然',\n",
       " ('我居', '我居然已'): 'ADD 已',\n",
       " ('我居', '我居然已经'): 'ADD 经',\n",
       " ('我居', '我居然已经做'): 'ADD 做',\n",
       " ('我居', '我居然已经做完'): 'ADD 完',\n",
       " ('我居', '我居然已经做完作'): 'ADD 作',\n",
       " ('我居', '我居然已经做完作业'): 'ADD 业',\n",
       " ('我居', '我居然已经做完作业了'): 'ADD 了',\n",
       " ('我居然', '我'): 'DEL 然',\n",
       " ('我居然', '我居'): 'DEL 然',\n",
       " ('我居然', '我居然'): '',\n",
       " ('我居然', '我居然已'): 'ADD 已',\n",
       " ('我居然', '我居然已经'): 'ADD 经',\n",
       " ('我居然', '我居然已经做'): 'ADD 做',\n",
       " ('我居然', '我居然已经做完'): 'ADD 完',\n",
       " ('我居然', '我居然已经做完作'): 'ADD 作',\n",
       " ('我居然', '我居然已经做完作业'): 'ADD 业',\n",
       " ('我居然', '我居然已经做完作业了'): 'ADD 了',\n",
       " ('我居然还', '我'): 'DEL 还',\n",
       " ('我居然还', '我居'): 'DEL 还',\n",
       " ('我居然还', '我居然'): 'DEL 还',\n",
       " ('我居然还', '我居然已'): 'DEL 还',\n",
       " ('我居然还', '我居然已经'): 'DEL 还',\n",
       " ('我居然还', '我居然已经做'): 'DEL 还',\n",
       " ('我居然还', '我居然已经做完'): 'DEL 还',\n",
       " ('我居然还', '我居然已经做完作'): 'DEL 还',\n",
       " ('我居然还', '我居然已经做完作业'): 'DEL 还',\n",
       " ('我居然还', '我居然已经做完作业了'): 'DEL 还',\n",
       " ('我居然还是', '我'): 'DEL 是',\n",
       " ('我居然还是', '我居'): 'DEL 是',\n",
       " ('我居然还是', '我居然'): 'DEL 是',\n",
       " ('我居然还是', '我居然已'): 'DEL 是',\n",
       " ('我居然还是', '我居然已经'): 'DEL 是',\n",
       " ('我居然还是', '我居然已经做'): 'DEL 是',\n",
       " ('我居然还是', '我居然已经做完'): 'DEL 是',\n",
       " ('我居然还是', '我居然已经做完作'): 'DEL 是',\n",
       " ('我居然还是', '我居然已经做完作业'): 'DEL 是',\n",
       " ('我居然还是', '我居然已经做完作业了'): 'DEL 是',\n",
       " ('我居然还是欠', '我'): 'DEL 欠',\n",
       " ('我居然还是欠', '我居'): 'DEL 欠',\n",
       " ('我居然还是欠', '我居然'): 'DEL 欠',\n",
       " ('我居然还是欠', '我居然已'): 'DEL 欠',\n",
       " ('我居然还是欠', '我居然已经'): 'DEL 欠',\n",
       " ('我居然还是欠', '我居然已经做'): 'DEL 欠',\n",
       " ('我居然还是欠', '我居然已经做完'): 'DEL 欠',\n",
       " ('我居然还是欠', '我居然已经做完作'): 'DEL 欠',\n",
       " ('我居然还是欠', '我居然已经做完作业'): 'DEL 欠',\n",
       " ('我居然还是欠', '我居然已经做完作业了'): 'DEL 欠',\n",
       " ('我居然还是欠着', '我'): 'DEL 着',\n",
       " ('我居然还是欠着', '我居'): 'DEL 着',\n",
       " ('我居然还是欠着', '我居然'): 'DEL 着',\n",
       " ('我居然还是欠着', '我居然已'): 'DEL 着',\n",
       " ('我居然还是欠着', '我居然已经'): 'DEL 着',\n",
       " ('我居然还是欠着', '我居然已经做'): 'DEL 着',\n",
       " ('我居然还是欠着', '我居然已经做完'): 'DEL 着',\n",
       " ('我居然还是欠着', '我居然已经做完作'): 'DEL 着',\n",
       " ('我居然还是欠着', '我居然已经做完作业'): 'DEL 着',\n",
       " ('我居然还是欠着', '我居然已经做完作业了'): 'DEL 着',\n",
       " ('我居然还是欠着作', '我'): 'DEL 作',\n",
       " ('我居然还是欠着作', '我居'): 'DEL 作',\n",
       " ('我居然还是欠着作', '我居然'): 'DEL 作',\n",
       " ('我居然还是欠着作', '我居然已'): 'DEL 作',\n",
       " ('我居然还是欠着作', '我居然已经'): 'DEL 作',\n",
       " ('我居然还是欠着作', '我居然已经做'): 'DEL 作',\n",
       " ('我居然还是欠着作', '我居然已经做完'): 'DEL 作',\n",
       " ('我居然还是欠着作', '我居然已经做完作'): '',\n",
       " ('我居然还是欠着作', '我居然已经做完作业'): 'ADD 业',\n",
       " ('我居然还是欠着作', '我居然已经做完作业了'): 'ADD 了',\n",
       " ('我居然还是欠着作业', '我'): 'DEL 业',\n",
       " ('我居然还是欠着作业', '我居'): 'DEL 业',\n",
       " ('我居然还是欠着作业', '我居然'): 'DEL 业',\n",
       " ('我居然还是欠着作业', '我居然已'): 'DEL 业',\n",
       " ('我居然还是欠着作业', '我居然已经'): 'DEL 业',\n",
       " ('我居然还是欠着作业', '我居然已经做'): 'DEL 业',\n",
       " ('我居然还是欠着作业', '我居然已经做完'): 'DEL 业',\n",
       " ('我居然还是欠着作业', '我居然已经做完作'): 'DEL 业',\n",
       " ('我居然还是欠着作业', '我居然已经做完作业'): '',\n",
       " ('我居然还是欠着作业', '我居然已经做完作业了'): 'ADD 了'}"
      ]
     },
     "execution_count": 104,
     "metadata": {},
     "output_type": "execute_result"
    }
   ],
   "source": [
    "solution"
   ]
  },
  {
   "cell_type": "code",
   "execution_count": 136,
   "metadata": {},
   "outputs": [],
   "source": [
    "solution = {}"
   ]
  },
  {
   "cell_type": "code",
   "execution_count": 137,
   "metadata": {},
   "outputs": [],
   "source": [
    "# Now we could get the distance between two sentence. However, we don't know where does it changed.\n",
    "# So, how could we know that?\n",
    "@lru_cache(maxsize=2**10) #decorater\n",
    "def edit_distance(string1, string2):\n",
    "    \n",
    "    if len(string1) == 0: return len(string2)\n",
    "    if len(string2) == 0: return len(string1)\n",
    "    \n",
    "    tail_s1 = string1[-1]\n",
    "    tail_s2 = string2[-1]\n",
    "    \n",
    "    candidates = [\n",
    "        (edit_distance(string1[:-1], string2) + 1, 'DEL {}'.format(tail_s1)),\n",
    "        (edit_distance(string1, string2[:-1]) + 1, 'ADD {}'.format(tail_s2)),\n",
    "    ]\n",
    "    \n",
    "    if tail_s1 == tail_s2:\n",
    "        both_forward = (edit_distance(string1[:-1], string2[:-1]) + 0, '')\n",
    "    else:\n",
    "        both_forward = (edit_distance(string1[:-1], string2[:-1]) + 1, 'SUB {} => {}'.format(tail_s1, tail_s2))\n",
    "        \n",
    "    candidates.append(both_forward)\n",
    "    \n",
    "    min_distance, operation = min(candidates, key=lambda x:x[0])\n",
    "    \n",
    "    solution[(string1, string2)] = operation\n",
    "    \n",
    "    return min_distance"
   ]
  },
  {
   "cell_type": "code",
   "execution_count": 138,
   "metadata": {},
   "outputs": [
    {
     "data": {
      "text/plain": [
       "2"
      ]
     },
     "execution_count": 138,
     "metadata": {},
     "output_type": "execute_result"
    }
   ],
   "source": [
    "edit_distance('ABCDE', 'ABCCEF')"
   ]
  },
  {
   "cell_type": "code",
   "execution_count": 139,
   "metadata": {},
   "outputs": [
    {
     "data": {
      "text/plain": [
       "{('A', 'A'): '',\n",
       " ('A', 'AB'): 'ADD B',\n",
       " ('A', 'ABC'): 'ADD C',\n",
       " ('A', 'ABCC'): 'ADD C',\n",
       " ('A', 'ABCCE'): 'ADD E',\n",
       " ('A', 'ABCCEF'): 'ADD F',\n",
       " ('AB', 'A'): 'DEL B',\n",
       " ('AB', 'AB'): '',\n",
       " ('AB', 'ABC'): 'ADD C',\n",
       " ('AB', 'ABCC'): 'ADD C',\n",
       " ('AB', 'ABCCE'): 'ADD E',\n",
       " ('AB', 'ABCCEF'): 'ADD F',\n",
       " ('ABC', 'A'): 'DEL C',\n",
       " ('ABC', 'AB'): 'DEL C',\n",
       " ('ABC', 'ABC'): '',\n",
       " ('ABC', 'ABCC'): 'ADD C',\n",
       " ('ABC', 'ABCCE'): 'ADD E',\n",
       " ('ABC', 'ABCCEF'): 'ADD F',\n",
       " ('ABCD', 'A'): 'DEL D',\n",
       " ('ABCD', 'AB'): 'DEL D',\n",
       " ('ABCD', 'ABC'): 'DEL D',\n",
       " ('ABCD', 'ABCC'): 'SUB D => C',\n",
       " ('ABCD', 'ABCCE'): 'ADD E',\n",
       " ('ABCD', 'ABCCEF'): 'ADD F',\n",
       " ('ABCDE', 'A'): 'DEL E',\n",
       " ('ABCDE', 'AB'): 'DEL E',\n",
       " ('ABCDE', 'ABC'): 'DEL E',\n",
       " ('ABCDE', 'ABCC'): 'DEL E',\n",
       " ('ABCDE', 'ABCCE'): '',\n",
       " ('ABCDE', 'ABCCEF'): 'ADD F'}"
      ]
     },
     "execution_count": 139,
     "metadata": {},
     "output_type": "execute_result"
    }
   ],
   "source": [
    "solution"
   ]
  },
  {
   "cell_type": "code",
   "execution_count": 140,
   "metadata": {},
   "outputs": [
    {
     "name": "stdout",
     "output_type": "stream",
     "text": [
      "Y\n"
     ]
    }
   ],
   "source": [
    "if solution[('ABCDE', 'ABCCE')] == '':\n",
    "    print(\"Y\")"
   ]
  },
  {
   "cell_type": "code",
   "execution_count": 141,
   "metadata": {},
   "outputs": [
    {
     "data": {
      "text/plain": [
       "'ADD F'"
      ]
     },
     "execution_count": 141,
     "metadata": {},
     "output_type": "execute_result"
    }
   ],
   "source": [
    "solution[('ABCDE', 'ABCCEF')]"
   ]
  },
  {
   "cell_type": "code",
   "execution_count": 176,
   "metadata": {},
   "outputs": [],
   "source": [
    "results = []"
   ]
  },
  {
   "cell_type": "code",
   "execution_count": 177,
   "metadata": {},
   "outputs": [],
   "source": [
    "def parse_solution(string1, string2, solution):\n",
    "\n",
    "    left, right = string1, string2\n",
    "    parsed_result = solution[(left, right)]\n",
    "    results.append(parsed_result)\n",
    "    \n",
    "    if 'ADD' in parsed_result:\n",
    "        right = right[:-1]\n",
    "        return(parse_solution(left, right, solution))\n",
    "    elif 'DEL' in parsed_result:\n",
    "        left = left[:-1]\n",
    "        return(parse_solution(left, right, solution))\n",
    "    elif parsed_result == '':\n",
    "        right = right[:-1]\n",
    "        left = left[:-1]\n",
    "        if len(right) == 0 and len(left) == 0:\n",
    "            return results\n",
    "        elif len(right) != 0 and len(left) != 0:\n",
    "            return(parse_solution(left, right, solution))\n",
    "        elif len(right) == 0 and len(left) != 0:\n",
    "            results.append('ADD {}'.format(left))\n",
    "        elif len(right) != 0 and len(left) == 0:\n",
    "            results.append('ADD {}'.format(right))\n",
    "    else:\n",
    "        return results"
   ]
  },
  {
   "cell_type": "code",
   "execution_count": 175,
   "metadata": {},
   "outputs": [
    {
     "data": {
      "text/plain": [
       "['ADD F', '', 'SUB D => C']"
      ]
     },
     "execution_count": 175,
     "metadata": {},
     "output_type": "execute_result"
    }
   ],
   "source": [
    "parse_solution('ABCDE', 'ABCCEF', solution)"
   ]
  },
  {
   "cell_type": "code",
   "execution_count": 178,
   "metadata": {},
   "outputs": [
    {
     "data": {
      "text/plain": [
       "['ADD E', 'ADD C', 'ADD C', 'ADD B', '']"
      ]
     },
     "execution_count": 178,
     "metadata": {},
     "output_type": "execute_result"
    }
   ],
   "source": [
    "parse_solution('A', 'ABCCE', solution)"
   ]
  },
  {
   "cell_type": "markdown",
   "metadata": {},
   "source": [
    "## Part 3: Answer following questions:\n",
    "\n",
    "#### Why do we need dynamic programming? What's the difference of dynamic programming and previous talked search problme?\n",
    "Ans: We need dynamic programming because sometimes there are lots of duplicate calculate in our program which will cost lots of time and computering power. With dynamic programing, we could analyzed the problem and split the problem into small parts and then save the solutions for child parts. In this we we could avoid duplicate calculate.  \n",
    "\n",
    "As said above, dynamic progtamming will save the calculate result for child problem. However, search problem will not. It will calculate another time when it meet an old problem.\n",
    "#### Why do we still need dynamic programming? Why not we train a machine learning to fit a function which could get the right answer based on inputs?\n",
    "Ans: Sometims we could solve the problem much eaiser with dynamic probleming through our analysis. And we may not have the data needed to train a model or it may take longer time to traing a model.\n",
    "#### Can you catch up at least 3 problems which could solved by Dynamic Programming?\n",
    "Ans: 1. How to choose the shortest route 2. How to segment tile to get the best reward. 3. bag problem - How to arrange the packsack to pack more things.\n",
    "#### Can you catch up at least 3 problems wich could sloved by Edit Distance?\n",
    "Ans: 1. To get suggested words when typing. 2. check the duplicate sentence. 3. To analyze the similarity of two object.\n",
    "#### Please summarize the three main features of Dynamic Programming, and make a concise explain for each feature.\n",
    "Ans: 1. Analyze where appear the repeat calculate 2. Split the whole project into child problems and make the solution for child problems. 3.  Save the result of child solutions.\n",
    "#### What's the disadvantages of Dynamic Programming? (You may need search by yourself in Internet)\n",
    "Ans: 1. It may be difficult to analyze the whole problem and forget some important parts of the problem. 2. It may be too difficult to save all the posibile solutions for the problem such as the game of go."
   ]
  },
  {
   "cell_type": "markdown",
   "metadata": {},
   "source": [
    "### (Optinal) Finish the k-person-salesman problem:"
   ]
  },
  {
   "cell_type": "code",
   "execution_count": null,
   "metadata": {},
   "outputs": [],
   "source": []
  }
 ],
 "metadata": {
  "kernelspec": {
   "display_name": "Python 3",
   "language": "python",
   "name": "python3"
  },
  "language_info": {
   "codemirror_mode": {
    "name": "ipython",
    "version": 3
   },
   "file_extension": ".py",
   "mimetype": "text/x-python",
   "name": "python",
   "nbconvert_exporter": "python",
   "pygments_lexer": "ipython3",
   "version": "3.6.8"
  }
 },
 "nbformat": 4,
 "nbformat_minor": 2
}
